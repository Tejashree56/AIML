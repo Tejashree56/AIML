{
  "nbformat": 4,
  "nbformat_minor": 0,
  "metadata": {
    "colab": {
      "provenance": [],
      "authorship_tag": "ABX9TyM30e6bK2B7RL6Xl9f2VIm4",
      "include_colab_link": true
    },
    "kernelspec": {
      "name": "python3",
      "display_name": "Python 3"
    },
    "language_info": {
      "name": "python"
    }
  },
  "cells": [
    {
      "cell_type": "markdown",
      "metadata": {
        "id": "view-in-github",
        "colab_type": "text"
      },
      "source": [
        "<a href=\"https://colab.research.google.com/github/Tejashree56/AIML/blob/main/Assignment1new.ipynb\" target=\"_parent\"><img src=\"https://colab.research.google.com/assets/colab-badge.svg\" alt=\"Open In Colab\"/></a>"
      ]
    },
    {
      "cell_type": "code",
      "execution_count": null,
      "metadata": {
        "id": "_grf1bGr7QRv",
        "colab": {
          "base_uri": "https://localhost:8080/"
        },
        "outputId": "4d8c80ad-5080-4a4f-9e00-fa5fa88d7fc5"
      },
      "outputs": [
        {
          "output_type": "stream",
          "name": "stdout",
          "text": [
            "Enter the value5\n",
            "20\n"
          ]
        }
      ],
      "source": [
        "a=int(input(\"Enter the value\"))\n",
        "p=4*a\n",
        "print(p)"
      ]
    },
    {
      "cell_type": "code",
      "source": [
        "l=int(input(\"Enter the value for length \"))\n",
        "b=int(input(\"Enter the value for breadth\"))\n",
        "p=2*(l+b)\n",
        "print(p)"
      ],
      "metadata": {
        "id": "eQYipQuJg230",
        "colab": {
          "base_uri": "https://localhost:8080/"
        },
        "outputId": "2fdd8b92-322f-4f06-967d-3726b5aed1cf"
      },
      "execution_count": null,
      "outputs": [
        {
          "output_type": "stream",
          "name": "stdout",
          "text": [
            "Enter the value for length 15\n",
            "Enter the value for breadth10\n",
            "50\n"
          ]
        }
      ]
    },
    {
      "cell_type": "code",
      "source": [
        "r=int(input(\"Enter the value for radius \"))\n",
        "pie=3.14\n",
        "c=2*pie*r\n",
        "print(c)"
      ],
      "metadata": {
        "id": "Pkcwp8Z8kVW1",
        "colab": {
          "base_uri": "https://localhost:8080/"
        },
        "outputId": "7681536d-4a2d-46ee-f00f-0399253a75a1"
      },
      "execution_count": null,
      "outputs": [
        {
          "output_type": "stream",
          "name": "stdout",
          "text": [
            "Enter the value for radius 5\n",
            "31.400000000000002\n"
          ]
        }
      ]
    },
    {
      "cell_type": "code",
      "source": [
        "a=int(input(\"Enter the value for a:\"))\n",
        "A=a*a\n",
        "print(A)"
      ],
      "metadata": {
        "id": "6udedpJIkZJj",
        "colab": {
          "base_uri": "https://localhost:8080/"
        },
        "outputId": "edcbe6f1-785a-44e6-ff34-ba9239467015"
      },
      "execution_count": null,
      "outputs": [
        {
          "output_type": "stream",
          "name": "stdout",
          "text": [
            "Enter the value for a:16\n",
            "256\n"
          ]
        }
      ]
    },
    {
      "cell_type": "code",
      "source": [
        "l=int(input(\"Enter the value for length: \"))\n",
        "b=int(input(\"Enter the value for breadth:\"))\n",
        "p=l*b\n",
        "print(p)"
      ],
      "metadata": {
        "id": "udxqwWzJkbYB",
        "colab": {
          "base_uri": "https://localhost:8080/"
        },
        "outputId": "ee96c30c-04f6-436f-86b0-cd4053fcb1d0"
      },
      "execution_count": null,
      "outputs": [
        {
          "output_type": "stream",
          "name": "stdout",
          "text": [
            "Enter the value for length: 15\n",
            "Enter the value for breadth:5\n",
            "75\n"
          ]
        }
      ]
    },
    {
      "cell_type": "code",
      "source": [
        "b1=int(input(\"Enter the value for b1 \"))\n",
        "b2=int(input(\"Enter the value for b2 \"))\n",
        "h=int(input(\"Enter the value for height\"))\n",
        "a=((b1+b2*h)/2)\n",
        "print(a)"
      ],
      "metadata": {
        "id": "SiWbxhKokeX4",
        "colab": {
          "base_uri": "https://localhost:8080/"
        },
        "outputId": "4272626d-adee-407a-9c4f-efd7d28b22e6"
      },
      "execution_count": null,
      "outputs": [
        {
          "output_type": "stream",
          "name": "stdout",
          "text": [
            "Enter the value for b1 12\n",
            "Enter the value for b2 16\n",
            "Enter the value for height5\n",
            "46.0\n"
          ]
        }
      ]
    },
    {
      "cell_type": "code",
      "source": [
        "b=int(input(\"Enter the value for breadth: \"))\n",
        "h=int(input(\"Enter the value for height:\"))\n",
        "c=1/2\n",
        "a=c*(b*h)\n",
        "print(a)"
      ],
      "metadata": {
        "id": "ax2Khf40khh_",
        "colab": {
          "base_uri": "https://localhost:8080/"
        },
        "outputId": "2ba0b8e4-18c0-4efb-fd4b-cc4a56e39080"
      },
      "execution_count": null,
      "outputs": [
        {
          "output_type": "stream",
          "name": "stdout",
          "text": [
            "Enter the value for breadth: 15\n",
            "Enter the value for height:14\n",
            "105.0\n"
          ]
        }
      ]
    },
    {
      "cell_type": "code",
      "source": [
        "r=int(input(\"Enter the value for radius \"))\n",
        "pie=3.14\n",
        "a=pie*r*r\n",
        "print(a)"
      ],
      "metadata": {
        "id": "aW3KYEI_kj6i",
        "colab": {
          "base_uri": "https://localhost:8080/"
        },
        "outputId": "c7274678-919c-4ac8-835c-441c8f12b22e"
      },
      "execution_count": null,
      "outputs": [
        {
          "output_type": "stream",
          "name": "stdout",
          "text": [
            "Enter the value for radius 13\n",
            "530.66\n"
          ]
        }
      ]
    },
    {
      "cell_type": "code",
      "source": [
        "l=int(input(\"Enter the value for length:\"))\n",
        "s=6*l*l\n",
        "print(s)"
      ],
      "metadata": {
        "id": "kRLsUAEAkmbA",
        "colab": {
          "base_uri": "https://localhost:8080/"
        },
        "outputId": "b9267730-a8d8-44b3-e448-d0fdea2701da"
      },
      "execution_count": null,
      "outputs": [
        {
          "output_type": "stream",
          "name": "stdout",
          "text": [
            "Enter the value for length:6\n",
            "216\n"
          ]
        }
      ]
    },
    {
      "cell_type": "code",
      "source": [
        "r=int(input(\"Enter the value for radius \"))\n",
        "h=int(input(\"Enter the value for height \"))\n",
        "pie=3.14\n",
        "CSA=2*pie*r*h\n",
        "print(CSA)"
      ],
      "metadata": {
        "id": "1qj6y9Uvkon3",
        "colab": {
          "base_uri": "https://localhost:8080/"
        },
        "outputId": "8685b2e9-7cec-4e91-cec5-53b12cf3ca6b"
      },
      "execution_count": null,
      "outputs": [
        {
          "output_type": "stream",
          "name": "stdout",
          "text": [
            "Enter the value for radius 12\n",
            "Enter the value for height 10\n",
            "753.6\n"
          ]
        }
      ]
    },
    {
      "cell_type": "code",
      "source": [
        "r=int(input(\"Enter the value for radius \"))\n",
        "l=int(input(\"Enter the value for length \"))\n",
        "pie=3.14\n",
        "CSA=pie*r*l\n",
        "print(CSA)"
      ],
      "metadata": {
        "id": "LxYoho_mkydu",
        "colab": {
          "base_uri": "https://localhost:8080/"
        },
        "outputId": "530ae7a2-9dc9-470b-8ddb-7f9974845d62"
      },
      "execution_count": null,
      "outputs": [
        {
          "output_type": "stream",
          "name": "stdout",
          "text": [
            "Enter the value for radius 16\n",
            "Enter the value for length 12\n",
            "602.88\n"
          ]
        }
      ]
    },
    {
      "cell_type": "code",
      "source": [
        "r=int(input(\"Enter the value for radius \"))\n",
        "pie=3.14\n",
        "s=4*pie*r*r\n",
        "print(s)"
      ],
      "metadata": {
        "id": "A157JZhnk2D1",
        "colab": {
          "base_uri": "https://localhost:8080/"
        },
        "outputId": "64ec8194-f548-44da-f5fa-5ef024b3eb4f"
      },
      "execution_count": null,
      "outputs": [
        {
          "output_type": "stream",
          "name": "stdout",
          "text": [
            "Enter the value for radius 5\n",
            "314.0\n"
          ]
        }
      ]
    },
    {
      "cell_type": "code",
      "source": [
        "r=int(input(\"Enter the value for radius \"))\n",
        "h=int(input(\"Enter the value for height \"))\n",
        "pie=3.14\n",
        "b=pie*r*r*h\n",
        "print(b)"
      ],
      "metadata": {
        "id": "NoRmuNBak5K1",
        "colab": {
          "base_uri": "https://localhost:8080/"
        },
        "outputId": "b762a4a4-e693-43d4-804a-9dbdd44fa9f5"
      },
      "execution_count": null,
      "outputs": [
        {
          "output_type": "stream",
          "name": "stdout",
          "text": [
            "Enter the value for radius 14\n",
            "Enter the value for height 12\n",
            "7385.280000000001\n"
          ]
        }
      ]
    },
    {
      "cell_type": "code",
      "source": [
        "r=int(input(\"Enter the value for radius \"))\n",
        "h=int(input(\"Enter the value for height \"))\n",
        "pie=3.14\n",
        "c=1/3\n",
        "v=c*pie*r*r*h\n",
        "print(v)"
      ],
      "metadata": {
        "id": "Q4wYT5aTk8N_",
        "colab": {
          "base_uri": "https://localhost:8080/"
        },
        "outputId": "73ca04de-c4c2-4527-8bcc-716a20f0e1f1"
      },
      "execution_count": null,
      "outputs": [
        {
          "output_type": "stream",
          "name": "stdout",
          "text": [
            "Enter the value for radius 12\n",
            "Enter the value for height 10\n",
            "1507.1999999999998\n"
          ]
        }
      ]
    },
    {
      "cell_type": "code",
      "source": [
        "r=int(input(\"Enter the value for radius \"))\n",
        "h=int(input(\"Enter the value for height \"))\n",
        "pie=3.14\n",
        "c=4/3\n",
        "v=c*pie*r*r*r\n",
        "print(v)"
      ],
      "metadata": {
        "id": "OrZk5t51k_WE",
        "colab": {
          "base_uri": "https://localhost:8080/"
        },
        "outputId": "65f25dd1-8cc2-44c4-874f-53deb5a5166c"
      },
      "execution_count": null,
      "outputs": [
        {
          "output_type": "stream",
          "name": "stdout",
          "text": [
            "Enter the value for radius 25\n",
            "Enter the value for height 12\n",
            "65416.666666666664\n"
          ]
        }
      ]
    },
    {
      "cell_type": "code",
      "source": [
        "import math\n",
        "x1=int(input(\"Enter the value for x1 \"))\n",
        "x2=int(input(\"Enter the value for x2 \"))\n",
        "y1=int(input(\"Enter the value for y1 \"))\n",
        "y2=int(input(\"Enter the value for y2 \"))\n",
        "d=math.sqrt((x2-x1)*(x2-x1)+(y2-y1)*(y2-y1))\n",
        "print(d)"
      ],
      "metadata": {
        "id": "5-wbW7n9lPwn",
        "colab": {
          "base_uri": "https://localhost:8080/"
        },
        "outputId": "2a87ac0f-a162-477e-a9d8-6cedac0a33a8"
      },
      "execution_count": null,
      "outputs": [
        {
          "output_type": "stream",
          "name": "stdout",
          "text": [
            "Enter the value for x1 2\n",
            "Enter the value for x2 3\n",
            "Enter the value for y1 2\n",
            "Enter the value for y2 3\n",
            "1.4142135623730951\n"
          ]
        }
      ]
    },
    {
      "cell_type": "code",
      "source": [
        "import math\n",
        "a=int(input(\"Enter the value for a \"))\n",
        "b=int(input(\"Enter the value for b \"))\n",
        "c=math.sqrt(a**2+b**2)\n",
        "print(c)"
      ],
      "metadata": {
        "id": "sztIAknFlUBK",
        "colab": {
          "base_uri": "https://localhost:8080/"
        },
        "outputId": "e070fc38-11f9-47a0-f164-f65a9454e827"
      },
      "execution_count": null,
      "outputs": [
        {
          "output_type": "stream",
          "name": "stdout",
          "text": [
            "Enter the value for a 14\n",
            "Enter the value for b 5\n",
            "14.866068747318506\n"
          ]
        }
      ]
    },
    {
      "cell_type": "code",
      "source": [
        "x1=int(input(\"Enter the value for x1 \"))\n",
        "x2=int(input(\"Enter the value for x2 \"))\n",
        "y1=int(input(\"Enter the value for y1 \"))\n",
        "y2=int(input(\"Enter the value for y2 \"))\n",
        "m=y2-y1/x2-x1\n",
        "print(m)"
      ],
      "metadata": {
        "id": "LSuedCJ1lXUc",
        "colab": {
          "base_uri": "https://localhost:8080/"
        },
        "outputId": "7d6e47b4-bbde-4348-ae1b-a3fdef867d86"
      },
      "execution_count": null,
      "outputs": [
        {
          "output_type": "stream",
          "name": "stdout",
          "text": [
            "Enter the value for x1 12\n",
            "Enter the value for x2 10\n",
            "Enter the value for y1 5\n",
            "Enter the value for y2 3\n",
            "-9.5\n"
          ]
        }
      ]
    },
    {
      "cell_type": "code",
      "source": [
        "\n",
        "x1=int(input(\"Enter the value for x1 \"))\n",
        "x2=int(input(\"Enter the value for x2 \"))\n",
        "y1=int(input(\"Enter the value for y1 \"))\n",
        "y2=int(input(\"Enter the value for y2 \"))\n",
        "a=(x1+x2)/2\n",
        "b=(y1+y2)/2\n",
        "print(a,b)"
      ],
      "metadata": {
        "id": "SlHVIdgXlasX",
        "colab": {
          "base_uri": "https://localhost:8080/"
        },
        "outputId": "66be0935-b733-4e5d-c2b2-3a958be23a14"
      },
      "execution_count": null,
      "outputs": [
        {
          "output_type": "stream",
          "name": "stdout",
          "text": [
            "Enter the value for x1 2\n",
            "Enter the value for x2 3\n",
            "Enter the value for y1 3\n",
            "Enter the value for y2 1\n",
            "2.5 2.0\n"
          ]
        }
      ]
    },
    {
      "cell_type": "code",
      "source": [
        "n=int(input(\"Enter the n: \"))\n",
        "price_per_unit=int(input(\"Enter the value: \"))\n",
        "total_price=(n)*(price_per_unit)\n",
        "print(total_price)"
      ],
      "metadata": {
        "id": "Ysonef0uldoW",
        "colab": {
          "base_uri": "https://localhost:8080/"
        },
        "outputId": "7bb8074d-41c4-44e4-d4d5-89aaa5b63fdf"
      },
      "execution_count": null,
      "outputs": [
        {
          "output_type": "stream",
          "name": "stdout",
          "text": [
            "Enter the n: 2\n",
            "Enter the value: 4\n",
            "8\n"
          ]
        }
      ]
    },
    {
      "cell_type": "code",
      "source": [
        "m=int(input(\"enter m value:\"))\n",
        "x=int(input(\"enter x value:\"))\n",
        "c=int(input(\"enter c value:\"))\n",
        "y=m*x+c\n",
        "print(y)"
      ],
      "metadata": {
        "id": "hL1RZunplgv_",
        "colab": {
          "base_uri": "https://localhost:8080/"
        },
        "outputId": "d0db9304-371d-4184-eec3-66f8cf7471a3"
      },
      "execution_count": null,
      "outputs": [
        {
          "output_type": "stream",
          "name": "stdout",
          "text": [
            "enter m value:5\n",
            "enter x value:6\n",
            "enter c value:4\n",
            "34\n"
          ]
        }
      ]
    },
    {
      "cell_type": "code",
      "source": [
        "r=int(input(\"enter the value for r\"))\n",
        "t=int(input(\"enter the value for t\"))\n",
        "d=r*t\n",
        "print(d)"
      ],
      "metadata": {
        "id": "t2PSiJJTljvt",
        "colab": {
          "base_uri": "https://localhost:8080/"
        },
        "outputId": "53e4cf40-ea24-4b52-c830-dbc5ffa8e3bb"
      },
      "execution_count": null,
      "outputs": [
        {
          "output_type": "stream",
          "name": "stdout",
          "text": [
            "enter the value for r6\n",
            "enter the value for t4\n",
            "24\n"
          ]
        }
      ]
    },
    {
      "cell_type": "code",
      "source": [
        "import math\n",
        "a=float(input(\"enter the coefficient a:\"))\n",
        "b=float(input(\"enter the coefficient b:\"))\n",
        "c=float(input(\"enter the coefficient c:\"))\n",
        "discriminant=b**2-4*a*c\n",
        "if discriminant>0:\n",
        "  root1=(-b + math.sqrt(discriminant))/(2*a)\n",
        "  root2=(-b - math.sqrt(discriminant))/(2*a)\n",
        "  print(\"root 1:\",root1)\n",
        "  print(\"root 2:\",root2)\n",
        "elif discriminant==0:\n",
        "  root1= -b/(2*a)\n",
        "  print(\"repeated root:\",root1)\n",
        "else:\n",
        "  real_part= -b/(2*a)\n",
        "  imaginary_part=math.sqrt(abs(discriminant))/(2*a)\n",
        "  print(\"complex root 1:\",real_part,\"+\",imaginary_part,\"i\")\n",
        "  print(\"complex root 2:\",real_part,\"+\",imaginary_part,\"i\")"
      ],
      "metadata": {
        "id": "T5Fqam5Blnv4"
      },
      "execution_count": null,
      "outputs": []
    },
    {
      "cell_type": "code",
      "source": [
        "# Python program to find roots of quadratic equation\n",
        "import math\n",
        "\n",
        "\n",
        "# function for finding roots\n",
        "def equationroots( a, b, c):\n",
        "\n",
        "\t# calculating discriminant using formula\n",
        "\tdis = b * b - 4 * a * c\n",
        "\tsqrt_val = math.sqrt(abs(dis))\n",
        "\n",
        "\t# checking condition for discriminant\n",
        "\tif dis > 0:\n",
        "\t\tprint(\"real and different roots\")\n",
        "\t\tprint((-b + sqrt_val)/(2 * a))\n",
        "\t\tprint((-b - sqrt_val)/(2 * a))\n",
        "\n",
        "\telif dis == 0:\n",
        "\t\tprint(\"real and same roots\")\n",
        "\t\tprint(-b / (2 * a))\n",
        "\n",
        "\t# when discriminant is less than 0\n",
        "\telse:\n",
        "\t\tprint(\"Complex Roots\")\n",
        "\t\tprint(- b / (2 * a), + i, sqrt_val)\n",
        "\t\tprint(- b / (2 * a), - i, sqrt_val)\n",
        "\n",
        "# Driver Program\n",
        "a = 20\n",
        "b = 24\n",
        "c = 11\n",
        "\n",
        "# If a is 0, then incorrect equation\n",
        "if a == 0:\n",
        "\t\tprint(\"Input correct quadratic equation\")\n",
        "\n",
        "else:\n",
        "\tequationroots(a, b, c)"
      ],
      "metadata": {
        "id": "iu0nE5xQlyZE"
      },
      "execution_count": null,
      "outputs": []
    },
    {
      "cell_type": "code",
      "source": [
        "import math\n",
        "a=int(input(\"Enter the value:\"))\n",
        "b=int(input(\"Enter the value:\"))\n",
        "m=int(input(\"Enter the m value:\"))\n",
        "n=int(input(\"Enter the n value:\"))\n",
        "x=((a**m)*(b**m))\n",
        "y=((a*b)**m)\n",
        "print(x)\n",
        "print(y)\n",
        "print((x)==(y))"
      ],
      "metadata": {
        "id": "28HVKNoYl32Q",
        "colab": {
          "base_uri": "https://localhost:8080/"
        },
        "outputId": "af7ba1af-2255-4c57-c488-ab29d36d087e"
      },
      "execution_count": null,
      "outputs": [
        {
          "output_type": "stream",
          "name": "stdout",
          "text": [
            "Enter the value:16\n",
            "Enter the value:14\n",
            "Enter the m value:15\n",
            "Enter the n value:5\n",
            "179357802799334616595002277310234624\n",
            "179357802799334616595002277310234624\n",
            "True\n"
          ]
        }
      ]
    },
    {
      "cell_type": "code",
      "source": [
        "import math\n",
        "a=int(input(\"Enter the value:\"))\n",
        "b=int(input(\"Enter the value:\"))\n",
        "m=int(input(\"Enter the m value:\"))\n",
        "n=int(input(\"Enter the n value:\"))\n",
        "x=((a**m)*(a**n))\n",
        "y=(a**(m+n))\n",
        "print(x)\n",
        "print(y)\n",
        "print((x)==(y))"
      ],
      "metadata": {
        "id": "Y6rO60L4l8Oi",
        "colab": {
          "base_uri": "https://localhost:8080/"
        },
        "outputId": "ec244ceb-94fa-4b45-fa6d-b32d38693c22"
      },
      "execution_count": null,
      "outputs": [
        {
          "output_type": "stream",
          "name": "stdout",
          "text": [
            "Enter the value:15\n",
            "Enter the value:5\n",
            "Enter the m value:3\n",
            "Enter the n value:4\n",
            "170859375\n",
            "170859375\n",
            "True\n"
          ]
        }
      ]
    },
    {
      "cell_type": "code",
      "source": [
        "import math\n",
        "a=int(input(\"Enter the value:\"))\n",
        "x=((a**1/2))\n",
        "y=math.sqrt(a)\n",
        "print(x)\n",
        "print(y)\n",
        "print((x)==(y))"
      ],
      "metadata": {
        "id": "8Jg6lS4HmAXG",
        "colab": {
          "base_uri": "https://localhost:8080/"
        },
        "outputId": "a05db27d-bdcb-4e57-824c-cd7dd79ecd2d"
      },
      "execution_count": null,
      "outputs": [
        {
          "output_type": "stream",
          "name": "stdout",
          "text": [
            "Enter the value:5\n",
            "2.5\n",
            "2.23606797749979\n",
            "False\n"
          ]
        }
      ]
    },
    {
      "cell_type": "code",
      "source": [
        "foot=int(input(\"enter the number of foots:\"))\n",
        "inch=foot*12\n",
        "print(inch,\"inchs\")"
      ],
      "metadata": {
        "id": "9b3uqsWJmDW-",
        "colab": {
          "base_uri": "https://localhost:8080/"
        },
        "outputId": "01a64ca1-e85b-455b-d7d4-8ed878ae5a2a"
      },
      "execution_count": null,
      "outputs": [
        {
          "output_type": "stream",
          "name": "stdout",
          "text": [
            "enter the number of foots:5\n",
            "60 inchs\n"
          ]
        }
      ]
    },
    {
      "cell_type": "code",
      "source": [
        "yard=int(input(\"enter the number of yards:\"))\n",
        "feet=yard*3\n",
        "print(feet,\"feets\")"
      ],
      "metadata": {
        "id": "47ExjiNImHAn",
        "colab": {
          "base_uri": "https://localhost:8080/"
        },
        "outputId": "6b5e1759-64ef-4cc9-cb03-ee46efe1449f"
      },
      "execution_count": null,
      "outputs": [
        {
          "output_type": "stream",
          "name": "stdout",
          "text": [
            "enter the number of yards:4\n",
            "12 feets\n"
          ]
        }
      ]
    },
    {
      "cell_type": "code",
      "source": [
        "mile=int(input(\"enter the number of miles:\"))\n",
        "feet=mile*5280\n",
        "print(feet,\"feets\")"
      ],
      "metadata": {
        "id": "vD4O894imKWG",
        "colab": {
          "base_uri": "https://localhost:8080/"
        },
        "outputId": "48dc0c9c-f63f-4bef-bb77-554895897f71"
      },
      "execution_count": null,
      "outputs": [
        {
          "output_type": "stream",
          "name": "stdout",
          "text": [
            "enter the number of miles:14\n",
            "73920 feets\n"
          ]
        }
      ]
    },
    {
      "cell_type": "code",
      "source": [
        "mile=int(input(\"enter the number of miles:\"))\n",
        "km=mile*1.61\n",
        "print(km,\"kilometers\")"
      ],
      "metadata": {
        "id": "n9Sq-JqPmOW6",
        "colab": {
          "base_uri": "https://localhost:8080/"
        },
        "outputId": "c5d0be39-b374-41c6-a634-0d3499f7a91c"
      },
      "execution_count": null,
      "outputs": [
        {
          "output_type": "stream",
          "name": "stdout",
          "text": [
            "enter the number of miles:14\n",
            "22.540000000000003 kilometers\n"
          ]
        }
      ]
    },
    {
      "cell_type": "code",
      "source": [
        "inch=int(input(\"enter the number of inch:\"))\n",
        "cm=inch*2.54\n",
        "print(cm,\"centimeters\")"
      ],
      "metadata": {
        "id": "MA_aEEwEmR4N",
        "colab": {
          "base_uri": "https://localhost:8080/"
        },
        "outputId": "128f1511-b1f1-4a37-c5d3-eaea5d094881"
      },
      "execution_count": null,
      "outputs": [
        {
          "output_type": "stream",
          "name": "stdout",
          "text": [
            "enter the number of inch:16\n",
            "40.64 centimeters\n"
          ]
        }
      ]
    },
    {
      "cell_type": "code",
      "source": [
        "foot=int(input(\"enter the number of foot:\"))\n",
        "meter=foot*0.3048\n",
        "print(meter,\"foots\")"
      ],
      "metadata": {
        "id": "0A-ampkdmUxP",
        "colab": {
          "base_uri": "https://localhost:8080/"
        },
        "outputId": "df584375-e5bd-4e3f-a97c-f0f1035ae48a"
      },
      "execution_count": null,
      "outputs": [
        {
          "output_type": "stream",
          "name": "stdout",
          "text": [
            "enter the number of foot:12\n",
            "3.6576000000000004 foots\n"
          ]
        }
      ]
    },
    {
      "cell_type": "code",
      "source": [
        "meter=int(input(\"enter the number of miles:\"))\n",
        "millimeters=meter*1000\n",
        "print(millimeters,\"millimeters\")"
      ],
      "metadata": {
        "id": "xd6fphHtmYfl",
        "colab": {
          "base_uri": "https://localhost:8080/"
        },
        "outputId": "6765f011-63f1-4d0a-b4b2-01c7d2c93558"
      },
      "execution_count": null,
      "outputs": [
        {
          "output_type": "stream",
          "name": "stdout",
          "text": [
            "enter the number of miles:14\n",
            "14000 millimeters\n"
          ]
        }
      ]
    },
    {
      "cell_type": "code",
      "source": [
        "km=int(input(\"enter the number of miles:\"))\n",
        "meters=km*1000\n",
        "print(meters,\"meters\")"
      ],
      "metadata": {
        "id": "F_O8aGYMmbw9",
        "colab": {
          "base_uri": "https://localhost:8080/"
        },
        "outputId": "84d360c0-1059-4d33-9c7e-24c733e4d1ea"
      },
      "execution_count": null,
      "outputs": [
        {
          "output_type": "stream",
          "name": "stdout",
          "text": [
            "enter the number of miles:25\n",
            "25000 meters\n"
          ]
        }
      ]
    },
    {
      "cell_type": "code",
      "source": [
        "km=int(input(\"enter the number of km:\"))\n",
        "miles=km*0.62\n",
        "print(miles,\"miles\")"
      ],
      "metadata": {
        "id": "uH7JpwVimes4",
        "colab": {
          "base_uri": "https://localhost:8080/"
        },
        "outputId": "5d431a03-8d5a-4f0a-f2b6-19586e093df2"
      },
      "execution_count": null,
      "outputs": [
        {
          "output_type": "stream",
          "name": "stdout",
          "text": [
            "enter the number of km:14\n",
            "8.68 miles\n"
          ]
        }
      ]
    },
    {
      "cell_type": "code",
      "source": [
        "square_foot=int(input(\"enter the number for square_foot\"))\n",
        "square_inch=square_foot*144\n",
        "print(square_inch,\"square inches\")"
      ],
      "metadata": {
        "id": "o6sQeUCQmi9F",
        "colab": {
          "base_uri": "https://localhost:8080/"
        },
        "outputId": "b2618675-414b-490c-a112-beb70f85b02f"
      },
      "execution_count": null,
      "outputs": [
        {
          "output_type": "stream",
          "name": "stdout",
          "text": [
            "enter the number for square_foot11\n",
            "1584 square inches\n"
          ]
        }
      ]
    },
    {
      "cell_type": "code",
      "source": [
        "square_yard=int(input(\"enter the number for square_yard\"))\n",
        "square_feet=square_yard*9\n",
        "print(square_feet,\"square feets\")"
      ],
      "metadata": {
        "id": "8LwWZLf_mnTg",
        "colab": {
          "base_uri": "https://localhost:8080/"
        },
        "outputId": "700e9a1a-02ef-4f7a-c1e5-50d37721202f"
      },
      "execution_count": null,
      "outputs": [
        {
          "output_type": "stream",
          "name": "stdout",
          "text": [
            "enter the number for square_yard36\n",
            "324 square feets\n"
          ]
        }
      ]
    },
    {
      "cell_type": "code",
      "source": [
        "acre=int(input(\"enter the number for acre\"))\n",
        "square_feet=acre*43560\n",
        "print(square_feet,\"square feets\")"
      ],
      "metadata": {
        "id": "zMcljuDkmq06",
        "colab": {
          "base_uri": "https://localhost:8080/"
        },
        "outputId": "e804332c-e50e-4b31-9430-56a6ab90247b"
      },
      "execution_count": null,
      "outputs": [
        {
          "output_type": "stream",
          "name": "stdout",
          "text": [
            "enter the number for acre5\n",
            "217800 square feets\n"
          ]
        }
      ]
    },
    {
      "cell_type": "code",
      "source": [
        "cup=int(input(\"enter the number for cups\"))\n",
        "fluid_ounces=cup*8\n",
        "print(fluid_ounces,\"cups\")"
      ],
      "metadata": {
        "id": "_mGGYeSCmu2a",
        "colab": {
          "base_uri": "https://localhost:8080/"
        },
        "outputId": "0e4b5474-74fb-4774-d006-a35f78c34f09"
      },
      "execution_count": null,
      "outputs": [
        {
          "output_type": "stream",
          "name": "stdout",
          "text": [
            "enter the number for cups15\n",
            "120 cups\n"
          ]
        }
      ]
    },
    {
      "cell_type": "code",
      "source": [
        "quart=int(input(\"enter the number of quarts:\"))\n",
        "cups=quart*4\n",
        "print(cups,\"cups\")"
      ],
      "metadata": {
        "id": "hg4FoVKrmyVs",
        "colab": {
          "base_uri": "https://localhost:8080/"
        },
        "outputId": "9fc1b640-941d-4a5a-c462-904977a056ff"
      },
      "execution_count": null,
      "outputs": [
        {
          "output_type": "stream",
          "name": "stdout",
          "text": [
            "enter the number of quarts:12\n",
            "48 cups\n"
          ]
        }
      ]
    },
    {
      "cell_type": "code",
      "source": [
        "gallon=int(input(\"enter the number for gallons\"))\n",
        "cubic_inch=gallon*231\n",
        "print(cubic_inch,\"gallons\")"
      ],
      "metadata": {
        "id": "MmLsny5Vm4V6",
        "colab": {
          "base_uri": "https://localhost:8080/"
        },
        "outputId": "796f0156-6cbb-414a-9a29-400f0b0b5417"
      },
      "execution_count": null,
      "outputs": [
        {
          "output_type": "stream",
          "name": "stdout",
          "text": [
            "enter the number for gallons56\n",
            "12936 gallons\n"
          ]
        }
      ]
    },
    {
      "cell_type": "code",
      "source": [
        "gallon=int(input(\"enter the number for gallons\"))\n",
        "quarts=gallon*4\n",
        "print(quarts,\"quarts\")"
      ],
      "metadata": {
        "id": "cO5BAmJGm7jc",
        "colab": {
          "base_uri": "https://localhost:8080/"
        },
        "outputId": "22c25ef7-2180-4cfd-9220-6693057dd06c"
      },
      "execution_count": null,
      "outputs": [
        {
          "output_type": "stream",
          "name": "stdout",
          "text": [
            "enter the number for gallons14\n",
            "56 quarts\n"
          ]
        }
      ]
    },
    {
      "cell_type": "code",
      "source": [
        "liters=int(input(\"enter the number of liters\"))\n",
        "gallons=liters*0.264\n",
        "print(gallons,\"gallons\")"
      ],
      "metadata": {
        "id": "YvjcSRxTm-63",
        "colab": {
          "base_uri": "https://localhost:8080/"
        },
        "outputId": "ebdd5c81-71f1-44ec-b329-ec5ba8e58393"
      },
      "execution_count": null,
      "outputs": [
        {
          "output_type": "stream",
          "name": "stdout",
          "text": [
            "enter the number of liters24\n",
            "6.336 gallons\n"
          ]
        }
      ]
    },
    {
      "cell_type": "code",
      "source": [
        "cubic_foot=int(input(\"enter the number of cubic foots\"))\n",
        "cubic_inch=cubic_foot*1728\n",
        "print(cubic_inch,\"inches\")"
      ],
      "metadata": {
        "id": "WI_Oda1hnChc",
        "colab": {
          "base_uri": "https://localhost:8080/"
        },
        "outputId": "b11e86c1-1296-47a9-aed5-f6bfa915a0e6"
      },
      "execution_count": null,
      "outputs": [
        {
          "output_type": "stream",
          "name": "stdout",
          "text": [
            "enter the number of cubic foots27\n",
            "46656 inches\n"
          ]
        }
      ]
    },
    {
      "cell_type": "code",
      "source": [
        "cubic_yards=int(input(\"enter the number of yards:\"))\n",
        "cubic_feet=cubic_yards*27\n",
        "print(cubic_feet,\"feets\")"
      ],
      "metadata": {
        "id": "fF2o86q7nFFY",
        "colab": {
          "base_uri": "https://localhost:8080/"
        },
        "outputId": "55f070b2-71b6-41c2-eb88-003e3a87b256"
      },
      "execution_count": null,
      "outputs": [
        {
          "output_type": "stream",
          "name": "stdout",
          "text": [
            "enter the number of yards:14\n",
            "378 feets\n"
          ]
        }
      ]
    },
    {
      "cell_type": "code",
      "source": [
        "board_foot=int(input(\"enter the number of foots:\"))\n",
        "inch=board_foot/1/12/12\n",
        "print(inch,\"inches\")"
      ],
      "metadata": {
        "id": "u112iW5LnIce",
        "colab": {
          "base_uri": "https://localhost:8080/"
        },
        "outputId": "080a40fc-27a0-4990-bffb-6a6a35eea6e3"
      },
      "execution_count": null,
      "outputs": [
        {
          "output_type": "stream",
          "name": "stdout",
          "text": [
            "enter the number of foots:15\n",
            "0.10416666666666667 inches\n"
          ]
        }
      ]
    },
    {
      "cell_type": "code",
      "source": [
        "a=int(input(\"enter the a value:\"))\n",
        "b=int(input(\"enter the b value:\"))\n",
        "c=int(input(\"enter the c value:\"))\n",
        "sum_of_angles=a+b+c\n",
        "print((sum_of_angles)==180)"
      ],
      "metadata": {
        "id": "sESdohZXnLqT",
        "colab": {
          "base_uri": "https://localhost:8080/"
        },
        "outputId": "49ea512a-1725-4825-a704-3c8f067d9ea7"
      },
      "execution_count": null,
      "outputs": [
        {
          "output_type": "stream",
          "name": "stdout",
          "text": [
            "enter the a value:8\n",
            "enter the b value:5\n",
            "enter the c value:6\n",
            "False\n"
          ]
        }
      ]
    },
    {
      "cell_type": "code",
      "source": [
        "b=int(input(\"enter the base value:\"))\n",
        "h=int(input(\"enter the height value:\"))\n",
        "area=1/2*(b*h)\n",
        "print(area)"
      ],
      "metadata": {
        "id": "YkwzDGrTnO4_",
        "colab": {
          "base_uri": "https://localhost:8080/"
        },
        "outputId": "58f8df1b-582d-4deb-c166-fd4991a327cc"
      },
      "execution_count": null,
      "outputs": [
        {
          "output_type": "stream",
          "name": "stdout",
          "text": [
            "enter the base value:4\n",
            "enter the height value:5\n",
            "10.0\n"
          ]
        }
      ]
    },
    {
      "cell_type": "code",
      "source": [
        "ounch=int(input(\"enter the value:\"))\n",
        "grams=ounch*28.350\n",
        "print(grams,\"grams\")"
      ],
      "metadata": {
        "id": "lqagmMUJnSAt",
        "colab": {
          "base_uri": "https://localhost:8080/"
        },
        "outputId": "c8637493-9418-497c-b52d-de823f7b21aa"
      },
      "execution_count": null,
      "outputs": [
        {
          "output_type": "stream",
          "name": "stdout",
          "text": [
            "enter the value:65\n",
            "1842.75 grams\n"
          ]
        }
      ]
    },
    {
      "cell_type": "code",
      "source": [
        "pounce=int(input(\"enter the value:\"))\n",
        "ounces=pounce*16\n",
        "print(ounces,\"ounces\")"
      ],
      "metadata": {
        "id": "WUYgmTRBnWHp",
        "colab": {
          "base_uri": "https://localhost:8080/"
        },
        "outputId": "da55f4c6-7c25-4dae-d6ac-ee5dba4f9274"
      },
      "execution_count": null,
      "outputs": [
        {
          "output_type": "stream",
          "name": "stdout",
          "text": [
            "enter the value:15\n",
            "240 ounces\n"
          ]
        }
      ]
    },
    {
      "cell_type": "code",
      "source": [
        "pounce=int(input(\"enter the value:\"))\n",
        "grams=pounce*453.592\n",
        "print(grams,\"grams\")"
      ],
      "metadata": {
        "colab": {
          "base_uri": "https://localhost:8080/"
        },
        "id": "ISsVVMAW3K2E",
        "outputId": "0f61e91a-9e08-46d0-ae81-ead70c8a4493"
      },
      "execution_count": null,
      "outputs": [
        {
          "output_type": "stream",
          "name": "stdout",
          "text": [
            "enter the value:5\n",
            "2267.96 grams\n"
          ]
        }
      ]
    },
    {
      "cell_type": "code",
      "source": [
        "milligram=int(input(\"enter the value:\"))\n",
        "grams=milligram*0.001\n",
        "print(grams,\"grams\")"
      ],
      "metadata": {
        "colab": {
          "base_uri": "https://localhost:8080/"
        },
        "id": "AJIVVwC937fq",
        "outputId": "feab5f3c-8596-49b2-d3d5-1ec7c98b0304"
      },
      "execution_count": null,
      "outputs": [
        {
          "output_type": "stream",
          "name": "stdout",
          "text": [
            "enter the value:5\n",
            "0.005 grams\n"
          ]
        }
      ]
    },
    {
      "cell_type": "code",
      "source": [
        "killogram=int(input(\"enter the value:\"))\n",
        "grams=killogram*1,000\n",
        "print(grams,\"grams\")"
      ],
      "metadata": {
        "colab": {
          "base_uri": "https://localhost:8080/"
        },
        "id": "qmFCeqaw4Ks7",
        "outputId": "e34f7a1a-24a6-4aa7-e95c-f632c177d686"
      },
      "execution_count": null,
      "outputs": [
        {
          "output_type": "stream",
          "name": "stdout",
          "text": [
            "enter the value:56\n",
            "(56, 0) grams\n"
          ]
        }
      ]
    },
    {
      "cell_type": "markdown",
      "source": [
        "RECTANGLE SOLID BOX"
      ],
      "metadata": {
        "id": "C7I8f9np4z1g"
      }
    },
    {
      "cell_type": "code",
      "source": [
        "l=int(input(\"Enter the value:\"))\n",
        "w=int(input(\"Enter the value:\"))\n",
        "h=int(input(\"Enter the value:\"))\n",
        "v=l*w*h\n",
        "print(v)\n"
      ],
      "metadata": {
        "colab": {
          "base_uri": "https://localhost:8080/"
        },
        "id": "L9sYNsGE4iPl",
        "outputId": "973adb73-3286-4f59-ef27-25e9ff7cc755"
      },
      "execution_count": null,
      "outputs": [
        {
          "output_type": "stream",
          "name": "stdout",
          "text": [
            "Enter the value:5\n",
            "Enter the value3\n",
            "Enter the value4\n",
            "60\n"
          ]
        }
      ]
    },
    {
      "cell_type": "markdown",
      "source": [
        "CUBE"
      ],
      "metadata": {
        "id": "StRe03Iu5fIy"
      }
    },
    {
      "cell_type": "code",
      "source": [
        "import math\n",
        "l=int(input(\"Enter the length of the cube:\"))\n",
        "volume=l**3\n",
        "print(\"volume\",volume)\n"
      ],
      "metadata": {
        "colab": {
          "base_uri": "https://localhost:8080/"
        },
        "id": "1-lyBB6X5kq1",
        "outputId": "d2a26c35-de9c-4f1c-e69d-790103d3eb5b"
      },
      "execution_count": null,
      "outputs": [
        {
          "output_type": "stream",
          "name": "stdout",
          "text": [
            "Enter the length of the cube:5\n",
            "volume 125\n"
          ]
        }
      ]
    },
    {
      "cell_type": "markdown",
      "source": [
        "CYLINDERIC VOLUME"
      ],
      "metadata": {
        "id": "3fq7QRrq6DPw"
      }
    },
    {
      "cell_type": "code",
      "source": [
        "import math\n",
        "r=int(input(\"Enter the value:\"))\n",
        "h=int(input(\"Enter the value:\"))\n",
        "v=3.14*(r**2)*h/3\n",
        "print(v)"
      ],
      "metadata": {
        "colab": {
          "base_uri": "https://localhost:8080/"
        },
        "id": "nTxM-vKW6Gz3",
        "outputId": "6bf4ffa6-fb9f-411f-a5b8-342c55baf77f"
      },
      "execution_count": null,
      "outputs": [
        {
          "output_type": "stream",
          "name": "stdout",
          "text": [
            "Enter the value:5\n",
            "Enter the value:6\n",
            "157.0\n"
          ]
        }
      ]
    },
    {
      "cell_type": "markdown",
      "source": [
        "VOLUME SPHERE"
      ],
      "metadata": {
        "id": "6WBQQFFK6xBY"
      }
    },
    {
      "cell_type": "code",
      "source": [
        "import math\n",
        "r=int(input(\"Enter the valu:\"))\n",
        "v=4/3*3.14*(r**3)\n",
        "print(v)"
      ],
      "metadata": {
        "colab": {
          "base_uri": "https://localhost:8080/"
        },
        "id": "XGDgl05_61ol",
        "outputId": "3ccc6b34-1b7d-4451-dfad-e7772c877de5"
      },
      "execution_count": null,
      "outputs": [
        {
          "output_type": "stream",
          "name": "stdout",
          "text": [
            "Enter the valu:6\n",
            "904.3199999999999\n"
          ]
        }
      ]
    }
  ]
}